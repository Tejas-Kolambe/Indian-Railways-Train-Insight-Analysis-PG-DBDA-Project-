{
 "cells": [
  {
   "cell_type": "code",
   "execution_count": 1,
   "id": "7acc37d7",
   "metadata": {},
   "outputs": [],
   "source": [
    "# Intialization\n",
    "import os\n",
    "import sys\n",
    "\n",
    "os.environ[\"SPARK_HOME\"] = \"/home/talentum/spark\"\n",
    "os.environ[\"PYLIB\"] = os.environ[\"SPARK_HOME\"] + \"/python/lib\"\n",
    "# In below two lines, use /usr/bin/python2.7 if you want to use Python 2\n",
    "os.environ[\"PYSPARK_PYTHON\"] = \"/usr/bin/python3.6\" \n",
    "os.environ[\"PYSPARK_DRIVER_PYTHON\"] = \"/usr/bin/python3\"\n",
    "sys.path.insert(0, os.environ[\"PYLIB\"] +\"/py4j-0.10.7-src.zip\")\n",
    "sys.path.insert(0, os.environ[\"PYLIB\"] +\"/pyspark.zip\")\n",
    "\n",
    "# NOTE: Whichever package you want mention here.\n",
    "# os.environ['PYSPARK_SUBMIT_ARGS'] = '--packages com.databricks:spark-xml_2.11:0.6.0 pyspark-shell' \n",
    "# os.environ['PYSPARK_SUBMIT_ARGS'] = '--packages org.apache.spark:spark-avro_2.11:2.4.0 pyspark-shell'\n",
    "os.environ['PYSPARK_SUBMIT_ARGS'] = '--packages com.databricks:spark-xml_2.11:0.6.0,org.apache.spark:spark-avro_2.11:2.4.3 pyspark-shell'\n",
    "# os.environ['PYSPARK_SUBMIT_ARGS'] = '--packages com.databricks:spark-xml_2.11:0.6.0,org.apache.spark:spark-avro_2.11:2.4.0 pyspark-shell'"
   ]
  },
  {
   "cell_type": "code",
   "execution_count": 2,
   "id": "5107e684",
   "metadata": {},
   "outputs": [],
   "source": [
    "#Entrypoint 2.x\n",
    "from pyspark.sql import SparkSession\n",
    "spark = SparkSession.builder.appName(\"Project\").enableHiveSupport().getOrCreate()\n",
    "\n",
    "# On yarn:\n",
    "# spark = SparkSession.builder.appName(\"Spark SQL basic example\").enableHiveSupport().master(\"yarn\").getOrCreate()\n",
    "# specify .master(\"yarn\")\n",
    "\n",
    "sc = spark.sparkContext"
   ]
  },
  {
   "cell_type": "code",
   "execution_count": 3,
   "id": "740520c6",
   "metadata": {},
   "outputs": [],
   "source": [
    "from pyspark.sql.functions import col, sum, round ,split"
   ]
  },
  {
   "cell_type": "code",
   "execution_count": 4,
   "id": "f2ce697d",
   "metadata": {},
   "outputs": [],
   "source": [
    "df = spark.read.csv(\"schedules.csv\",header=True,inferSchema=True)"
   ]
  },
  {
   "cell_type": "code",
   "execution_count": 5,
   "id": "84b125d7",
   "metadata": {},
   "outputs": [
    {
     "name": "stdout",
     "output_type": "stream",
     "text": [
      "+-----------+----------------+-----------+---------+--------------+--------------+--------------+--------------+--------------+--------------+--------------+--------------------+--------------------+\n",
      "|trainNumber|       trainName|stationFrom|stationTo|trainRunsOnMon|trainRunsOnTue|trainRunsOnWed|trainRunsOnThu|trainRunsOnFri|trainRunsOnSat|trainRunsOnSun|           timeStamp|         stationList|\n",
      "+-----------+----------------+-----------+---------+--------------+--------------+--------------+--------------+--------------+--------------+--------------+--------------------+--------------------+\n",
      "|        961|VALLEY QUEEN SPL|         MJ|     MJMG|             Y|             Y|             N|             Y|             Y|             N|             N|2023-10-15 13:04:...|[{'stationCode': ...|\n",
      "|       1027|  DR GKP SPECIAL|         DR|      GKP|             N|             Y|             N|             Y|             N|             Y|             Y|2023-10-15 13:04:...|[{'stationCode': ...|\n",
      "|       1065| DADAR DHULE SPL|         DR|      DHI|             Y|             N|             N|             N|             Y|             N|             Y|2023-10-15 13:05:...|[{'stationCode': ...|\n",
      "|       1066| DHULE DADAR SPL|        DHI|       DR|             Y|             Y|             N|             N|             N|             Y|             N|2023-10-15 13:05:...|[{'stationCode': ...|\n",
      "|       1127|     LTT BPQ SPL|        LTT|      BPQ|             N|             Y|             N|             N|             N|             N|             N|2023-10-15 13:05:...|[{'stationCode': ...|\n",
      "+-----------+----------------+-----------+---------+--------------+--------------+--------------+--------------+--------------+--------------+--------------+--------------------+--------------------+\n",
      "only showing top 5 rows\n",
      "\n"
     ]
    }
   ],
   "source": [
    "df.show(5)"
   ]
  },
  {
   "cell_type": "code",
   "execution_count": 6,
   "id": "c0021851",
   "metadata": {},
   "outputs": [
    {
     "data": {
      "text/plain": [
       "3292"
      ]
     },
     "execution_count": 6,
     "metadata": {},
     "output_type": "execute_result"
    }
   ],
   "source": [
    "df.count()"
   ]
  },
  {
   "cell_type": "code",
   "execution_count": 7,
   "id": "4a4636fc",
   "metadata": {},
   "outputs": [
    {
     "data": {
      "text/plain": [
       "['trainNumber',\n",
       " 'trainName',\n",
       " 'stationFrom',\n",
       " 'stationTo',\n",
       " 'trainRunsOnMon',\n",
       " 'trainRunsOnTue',\n",
       " 'trainRunsOnWed',\n",
       " 'trainRunsOnThu',\n",
       " 'trainRunsOnFri',\n",
       " 'trainRunsOnSat',\n",
       " 'trainRunsOnSun',\n",
       " 'timeStamp',\n",
       " 'stationList']"
      ]
     },
     "execution_count": 7,
     "metadata": {},
     "output_type": "execute_result"
    }
   ],
   "source": [
    "df.columns"
   ]
  },
  {
   "cell_type": "code",
   "execution_count": 8,
   "id": "ef209ba8",
   "metadata": {},
   "outputs": [],
   "source": [
    "df=df.drop(\"stationList\")"
   ]
  },
  {
   "cell_type": "code",
   "execution_count": 9,
   "id": "fcb97b87",
   "metadata": {},
   "outputs": [
    {
     "data": {
      "text/plain": [
       "['trainNumber',\n",
       " 'trainName',\n",
       " 'stationFrom',\n",
       " 'stationTo',\n",
       " 'trainRunsOnMon',\n",
       " 'trainRunsOnTue',\n",
       " 'trainRunsOnWed',\n",
       " 'trainRunsOnThu',\n",
       " 'trainRunsOnFri',\n",
       " 'trainRunsOnSat',\n",
       " 'trainRunsOnSun',\n",
       " 'timeStamp']"
      ]
     },
     "execution_count": 9,
     "metadata": {},
     "output_type": "execute_result"
    }
   ],
   "source": [
    "df.columns"
   ]
  },
  {
   "cell_type": "code",
   "execution_count": 10,
   "id": "de11f70e",
   "metadata": {},
   "outputs": [
    {
     "name": "stdout",
     "output_type": "stream",
     "text": [
      "+-----------+----------------+-----------+---------+--------------+--------------+--------------+--------------+--------------+--------------+--------------+--------------------+\n",
      "|trainNumber|       trainName|stationFrom|stationTo|trainRunsOnMon|trainRunsOnTue|trainRunsOnWed|trainRunsOnThu|trainRunsOnFri|trainRunsOnSat|trainRunsOnSun|           timeStamp|\n",
      "+-----------+----------------+-----------+---------+--------------+--------------+--------------+--------------+--------------+--------------+--------------+--------------------+\n",
      "|        961|VALLEY QUEEN SPL|         MJ|     MJMG|             Y|             Y|             N|             Y|             Y|             N|             N|2023-10-15 13:04:...|\n",
      "|       1027|  DR GKP SPECIAL|         DR|      GKP|             N|             Y|             N|             Y|             N|             Y|             Y|2023-10-15 13:04:...|\n",
      "|       1065| DADAR DHULE SPL|         DR|      DHI|             Y|             N|             N|             N|             Y|             N|             Y|2023-10-15 13:05:...|\n",
      "|       1066| DHULE DADAR SPL|        DHI|       DR|             Y|             Y|             N|             N|             N|             Y|             N|2023-10-15 13:05:...|\n",
      "+-----------+----------------+-----------+---------+--------------+--------------+--------------+--------------+--------------+--------------+--------------+--------------------+\n",
      "only showing top 4 rows\n",
      "\n"
     ]
    }
   ],
   "source": [
    "df.show(4)"
   ]
  },
  {
   "cell_type": "code",
   "execution_count": 11,
   "id": "25c8065d",
   "metadata": {},
   "outputs": [],
   "source": [
    "new_column = {\n",
    "    \"trainRunsOnMon\": \"Monday\",\n",
    "    \"trainRunsOnTue\": \"Tuesday\",\n",
    "    \"trainRunsOnWed\": \"Wednesday\",\n",
    "    \"trainRunsOnThu\": \"Thursday\",\n",
    "    \"trainRunsOnFri\": \"Friday\",\n",
    "    \"trainRunsOnSat\": \"Saturday\",\n",
    "    \"trainRunsOnSun\": \"Sunday\"\n",
    "}\n",
    "\n",
    "for old_name, new_name in new_column.items():\n",
    "    df = df.withColumnRenamed(old_name, new_name)"
   ]
  },
  {
   "cell_type": "code",
   "execution_count": 12,
   "id": "e0fc072d",
   "metadata": {},
   "outputs": [
    {
     "name": "stdout",
     "output_type": "stream",
     "text": [
      "+-----------+----------------+-----------+---------+------+-------+---------+--------+------+--------+------+--------------------+\n",
      "|trainNumber|       trainName|stationFrom|stationTo|Monday|Tuesday|Wednesday|Thursday|Friday|Saturday|Sunday|           timeStamp|\n",
      "+-----------+----------------+-----------+---------+------+-------+---------+--------+------+--------+------+--------------------+\n",
      "|        961|VALLEY QUEEN SPL|         MJ|     MJMG|     Y|      Y|        N|       Y|     Y|       N|     N|2023-10-15 13:04:...|\n",
      "|       1027|  DR GKP SPECIAL|         DR|      GKP|     N|      Y|        N|       Y|     N|       Y|     Y|2023-10-15 13:04:...|\n",
      "|       1065| DADAR DHULE SPL|         DR|      DHI|     Y|      N|        N|       N|     Y|       N|     Y|2023-10-15 13:05:...|\n",
      "|       1066| DHULE DADAR SPL|        DHI|       DR|     Y|      Y|        N|       N|     N|       Y|     N|2023-10-15 13:05:...|\n",
      "+-----------+----------------+-----------+---------+------+-------+---------+--------+------+--------+------+--------------------+\n",
      "only showing top 4 rows\n",
      "\n"
     ]
    }
   ],
   "source": [
    "df.show(4)"
   ]
  },
  {
   "cell_type": "code",
   "execution_count": 13,
   "id": "478c61a7",
   "metadata": {},
   "outputs": [],
   "source": [
    "df_split = df.withColumn(\"date\", split(col(\"timestamp\"), \" \")[0]) \\\n",
    "                .withColumn(\"time\", split(col(\"timestamp\"), \" \")[1])"
   ]
  },
  {
   "cell_type": "code",
   "execution_count": 14,
   "id": "17ddf707",
   "metadata": {},
   "outputs": [
    {
     "name": "stdout",
     "output_type": "stream",
     "text": [
      "+----------+------------+\n",
      "|      date|        time|\n",
      "+----------+------------+\n",
      "|2023-10-15|13:04:05.392|\n",
      "|2023-10-15|13:04:36.625|\n",
      "|2023-10-15|13:05:16.833|\n",
      "|2023-10-15|13:05:17.545|\n",
      "+----------+------------+\n",
      "only showing top 4 rows\n",
      "\n"
     ]
    }
   ],
   "source": [
    "df_split.select(\"date\",\"time\").show(4)"
   ]
  },
  {
   "cell_type": "code",
   "execution_count": 15,
   "id": "c897d71e",
   "metadata": {},
   "outputs": [
    {
     "data": {
      "text/plain": [
       "['trainNumber',\n",
       " 'trainName',\n",
       " 'stationFrom',\n",
       " 'stationTo',\n",
       " 'Monday',\n",
       " 'Tuesday',\n",
       " 'Wednesday',\n",
       " 'Thursday',\n",
       " 'Friday',\n",
       " 'Saturday',\n",
       " 'Sunday',\n",
       " 'timeStamp',\n",
       " 'date',\n",
       " 'time']"
      ]
     },
     "execution_count": 15,
     "metadata": {},
     "output_type": "execute_result"
    }
   ],
   "source": [
    "df_split.columns"
   ]
  },
  {
   "cell_type": "code",
   "execution_count": 16,
   "id": "3c851455",
   "metadata": {},
   "outputs": [],
   "source": [
    "df_split = df_split.drop(\"timeStamp\")"
   ]
  },
  {
   "cell_type": "code",
   "execution_count": 17,
   "id": "14974de5",
   "metadata": {},
   "outputs": [],
   "source": [
    "col_name = df_split.columns"
   ]
  },
  {
   "cell_type": "code",
   "execution_count": 18,
   "id": "b909f190",
   "metadata": {},
   "outputs": [],
   "source": [
    "df_capital = df_split.select([col(col_name).alias(col_name.capitalize()) for col_name in df_split.columns])"
   ]
  },
  {
   "cell_type": "code",
   "execution_count": 19,
   "id": "334cd833",
   "metadata": {},
   "outputs": [
    {
     "name": "stdout",
     "output_type": "stream",
     "text": [
      "+-----------+----------------+-----------+---------+------+-------+---------+--------+------+--------+------+----------+------------+\n",
      "|Trainnumber|       Trainname|Stationfrom|Stationto|Monday|Tuesday|Wednesday|Thursday|Friday|Saturday|Sunday|      Date|        Time|\n",
      "+-----------+----------------+-----------+---------+------+-------+---------+--------+------+--------+------+----------+------------+\n",
      "|        961|VALLEY QUEEN SPL|         MJ|     MJMG|     Y|      Y|        N|       Y|     Y|       N|     N|2023-10-15|13:04:05.392|\n",
      "|       1027|  DR GKP SPECIAL|         DR|      GKP|     N|      Y|        N|       Y|     N|       Y|     Y|2023-10-15|13:04:36.625|\n",
      "|       1065| DADAR DHULE SPL|         DR|      DHI|     Y|      N|        N|       N|     Y|       N|     Y|2023-10-15|13:05:16.833|\n",
      "|       1066| DHULE DADAR SPL|        DHI|       DR|     Y|      Y|        N|       N|     N|       Y|     N|2023-10-15|13:05:17.545|\n",
      "|       1127|     LTT BPQ SPL|        LTT|      BPQ|     N|      Y|        N|       N|     N|       N|     N|2023-10-15|13:05:44.865|\n",
      "+-----------+----------------+-----------+---------+------+-------+---------+--------+------+--------+------+----------+------------+\n",
      "only showing top 5 rows\n",
      "\n"
     ]
    }
   ],
   "source": [
    "df_capital.show(5)"
   ]
  },
  {
   "cell_type": "code",
   "execution_count": 20,
   "id": "c567286e",
   "metadata": {},
   "outputs": [
    {
     "name": "stdout",
     "output_type": "stream",
     "text": [
      "root\n",
      " |-- Trainnumber: integer (nullable = true)\n",
      " |-- Trainname: string (nullable = true)\n",
      " |-- Stationfrom: string (nullable = true)\n",
      " |-- Stationto: string (nullable = true)\n",
      " |-- Monday: string (nullable = true)\n",
      " |-- Tuesday: string (nullable = true)\n",
      " |-- Wednesday: string (nullable = true)\n",
      " |-- Thursday: string (nullable = true)\n",
      " |-- Friday: string (nullable = true)\n",
      " |-- Saturday: string (nullable = true)\n",
      " |-- Sunday: string (nullable = true)\n",
      " |-- Date: string (nullable = true)\n",
      " |-- Time: string (nullable = true)\n",
      "\n"
     ]
    }
   ],
   "source": [
    "df_capital.printSchema()"
   ]
  },
  {
   "cell_type": "code",
   "execution_count": null,
   "id": "d53b1c50",
   "metadata": {},
   "outputs": [],
   "source": []
  },
  {
   "cell_type": "code",
   "execution_count": 24,
   "id": "055d1671",
   "metadata": {},
   "outputs": [],
   "source": [
    "import pandas as pd\n",
    "\n",
    "# Convert PySpark DataFrame to Pandas DataFrame\n",
    "pandas_df = df_capital.toPandas()\n",
    "\n",
    "# Specify the output path\n",
    "output_path = \"/home/talentum/shared/Project/Train Schedules1.csv\"\n",
    "\n",
    "# Write Pandas DataFrame to CSV file with header\n",
    "pandas_df.to_csv(output_path, header=True, index=False)"
   ]
  },
  {
   "cell_type": "code",
   "execution_count": 25,
   "id": "3d2b3e4b",
   "metadata": {},
   "outputs": [
    {
     "name": "stdout",
     "output_type": "stream",
     "text": [
      "root\n",
      " |-- Trainnumber: integer (nullable = true)\n",
      " |-- Trainname: string (nullable = true)\n",
      " |-- Stationfrom: string (nullable = true)\n",
      " |-- Stationto: string (nullable = true)\n",
      " |-- Monday: string (nullable = true)\n",
      " |-- Tuesday: string (nullable = true)\n",
      " |-- Wednesday: string (nullable = true)\n",
      " |-- Thursday: string (nullable = true)\n",
      " |-- Friday: string (nullable = true)\n",
      " |-- Saturday: string (nullable = true)\n",
      " |-- Sunday: string (nullable = true)\n",
      " |-- Date: string (nullable = true)\n",
      " |-- Time: string (nullable = true)\n",
      "\n"
     ]
    }
   ],
   "source": [
    "df_capital.printSchema()"
   ]
  },
  {
   "cell_type": "code",
   "execution_count": 26,
   "id": "abdc8792",
   "metadata": {},
   "outputs": [],
   "source": [
    "mysql_url = \"jdbc:mysql://127.0.0.1:3306/project?useSSL=false&allowPublicKeyRetrieval=true\"\n",
    "conn_prop={\n",
    "    \n",
    "    \"user\":\"bigdata\",\n",
    "    \"password\":\"Bigdata@123\",\n",
    "    \"driver\":\"com.mysql.jdbc.Driver\"\n",
    "}\n",
    "\n",
    "table_name=\"train_schedule\"\n",
    "\n",
    "df_capital.write.jdbc(url=mysql_url,table=table_name,mode=\"overwrite\",properties=conn_prop)"
   ]
  },
  {
   "cell_type": "code",
   "execution_count": null,
   "id": "dfddd14d",
   "metadata": {},
   "outputs": [],
   "source": []
  }
 ],
 "metadata": {
  "kernelspec": {
   "display_name": "Python 3",
   "language": "python",
   "name": "python3"
  },
  "language_info": {
   "codemirror_mode": {
    "name": "ipython",
    "version": 3
   },
   "file_extension": ".py",
   "mimetype": "text/x-python",
   "name": "python",
   "nbconvert_exporter": "python",
   "pygments_lexer": "ipython3",
   "version": "3.6.9"
  }
 },
 "nbformat": 4,
 "nbformat_minor": 5
}
