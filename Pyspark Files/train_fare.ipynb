{
 "cells": [
  {
   "cell_type": "code",
   "execution_count": 1,
   "id": "f30bfc24",
   "metadata": {},
   "outputs": [],
   "source": [
    "# Intialization\n",
    "import os\n",
    "import sys\n",
    "\n",
    "os.environ[\"SPARK_HOME\"] = \"/home/talentum/spark\"\n",
    "os.environ[\"PYLIB\"] = os.environ[\"SPARK_HOME\"] + \"/python/lib\"\n",
    "# In below two lines, use /usr/bin/python2.7 if you want to use Python 2\n",
    "os.environ[\"PYSPARK_PYTHON\"] = \"/usr/bin/python3.6\" \n",
    "os.environ[\"PYSPARK_DRIVER_PYTHON\"] = \"/usr/bin/python3\"\n",
    "sys.path.insert(0, os.environ[\"PYLIB\"] +\"/py4j-0.10.7-src.zip\")\n",
    "sys.path.insert(0, os.environ[\"PYLIB\"] +\"/pyspark.zip\")\n",
    "\n",
    "# NOTE: Whichever package you want mention here.\n",
    "# os.environ['PYSPARK_SUBMIT_ARGS'] = '--packages com.databricks:spark-xml_2.11:0.6.0 pyspark-shell' \n",
    "# os.environ['PYSPARK_SUBMIT_ARGS'] = '--packages org.apache.spark:spark-avro_2.11:2.4.0 pyspark-shell'\n",
    "os.environ['PYSPARK_SUBMIT_ARGS'] = '--packages com.databricks:spark-xml_2.11:0.6.0,org.apache.spark:spark-avro_2.11:2.4.3 pyspark-shell'\n",
    "# os.environ['PYSPARK_SUBMIT_ARGS'] = '--packages com.databricks:spark-xml_2.11:0.6.0,org.apache.spark:spark-avro_2.11:2.4.0 pyspark-shell'"
   ]
  },
  {
   "cell_type": "code",
   "execution_count": 2,
   "id": "9eceb1fa",
   "metadata": {},
   "outputs": [],
   "source": [
    "#Entrypoint 2.x\n",
    "from pyspark.sql import SparkSession\n",
    "spark = SparkSession.builder.appName(\"Project\").enableHiveSupport().getOrCreate()\n",
    "\n",
    "# On yarn:\n",
    "# spark = SparkSession.builder.appName(\"Spark SQL basic example\").enableHiveSupport().master(\"yarn\").getOrCreate()\n",
    "# specify .master(\"yarn\")\n",
    "\n",
    "sc = spark.sparkContext"
   ]
  },
  {
   "cell_type": "code",
   "execution_count": 3,
   "id": "6d86c43f",
   "metadata": {},
   "outputs": [],
   "source": [
    "from pyspark.sql.types import StructType,StructField,StringType,IntegerType,DoubleType,TimestampType\n",
    "\n",
    "from pyspark.sql.functions import col, sum, round ,split"
   ]
  },
  {
   "cell_type": "code",
   "execution_count": 4,
   "id": "3d22762e",
   "metadata": {},
   "outputs": [],
   "source": [
    "df1 = spark.read.csv(\"price_data.csv\",header=True, inferSchema=True)"
   ]
  },
  {
   "cell_type": "code",
   "execution_count": 5,
   "id": "4fb36e23",
   "metadata": {},
   "outputs": [
    {
     "name": "stdout",
     "output_type": "stream",
     "text": [
      "root\n",
      " |-- baseFare: integer (nullable = true)\n",
      " |-- reservationCharge: integer (nullable = true)\n",
      " |-- superfastCharge: integer (nullable = true)\n",
      " |-- fuelAmount: double (nullable = true)\n",
      " |-- totalConcession: integer (nullable = true)\n",
      " |-- tatkalFare: integer (nullable = true)\n",
      " |-- serviceTax: double (nullable = true)\n",
      " |-- otherCharge: integer (nullable = true)\n",
      " |-- cateringCharge: integer (nullable = true)\n",
      " |-- dynamicFare: integer (nullable = true)\n",
      " |-- totalFare: integer (nullable = true)\n",
      " |-- availability: string (nullable = true)\n",
      " |-- trainNumber: integer (nullable = true)\n",
      " |-- timeStamp: timestamp (nullable = true)\n",
      " |-- fromStnCode: string (nullable = true)\n",
      " |-- toStnCode: string (nullable = true)\n",
      " |-- classCode: string (nullable = true)\n",
      " |-- distance: integer (nullable = true)\n",
      " |-- duration: double (nullable = true)\n",
      "\n"
     ]
    }
   ],
   "source": [
    "df1.printSchema()"
   ]
  },
  {
   "cell_type": "code",
   "execution_count": 6,
   "id": "e4a58318",
   "metadata": {},
   "outputs": [
    {
     "data": {
      "text/plain": [
       "['baseFare',\n",
       " 'reservationCharge',\n",
       " 'superfastCharge',\n",
       " 'fuelAmount',\n",
       " 'totalConcession',\n",
       " 'tatkalFare',\n",
       " 'serviceTax',\n",
       " 'otherCharge',\n",
       " 'cateringCharge',\n",
       " 'dynamicFare',\n",
       " 'totalFare',\n",
       " 'availability',\n",
       " 'trainNumber',\n",
       " 'timeStamp',\n",
       " 'fromStnCode',\n",
       " 'toStnCode',\n",
       " 'classCode',\n",
       " 'distance',\n",
       " 'duration']"
      ]
     },
     "execution_count": 6,
     "metadata": {},
     "output_type": "execute_result"
    }
   ],
   "source": [
    "df1.columns"
   ]
  },
  {
   "cell_type": "code",
   "execution_count": 7,
   "id": "a444c184",
   "metadata": {},
   "outputs": [],
   "source": [
    "df1=df1.drop(\"availability\",\"superfastCharge\",\"fuelAmount\",\"totalConcession\",\"tatkalFare\",\"otherCharge\",\"cateringCharge\",\"dynamicFare\")"
   ]
  },
  {
   "cell_type": "code",
   "execution_count": 8,
   "id": "a8247b17",
   "metadata": {},
   "outputs": [
    {
     "name": "stdout",
     "output_type": "stream",
     "text": [
      "+--------+-----------------+----------+---------+-----------+--------------------+-----------+---------+---------+--------+--------+\n",
      "|baseFare|reservationCharge|serviceTax|totalFare|trainNumber|           timeStamp|fromStnCode|toStnCode|classCode|distance|duration|\n",
      "+--------+-----------------+----------+---------+-----------+--------------------+-----------+---------+---------+--------+--------+\n",
      "|    1059|               60|      56.0|     1175|      11464|2023-10-03 22:13:...|        JBP|     SRID|       1A|      54|    33.0|\n",
      "|     626|               50|      34.0|      710|      11464|2023-10-03 22:13:...|        JBP|     SRID|       2A|      54|    33.0|\n",
      "|     441|               40|      24.0|      505|      11464|2023-10-03 22:13:...|        JBP|     SRID|       3A|      54|    33.0|\n",
      "|     125|               20|       0.0|      145|      11464|2023-10-03 22:13:...|        JBP|     SRID|       SL|      54|    33.0|\n",
      "|    1059|               60|      56.0|     1175|      11464|2023-10-03 22:13:...|        JBP|      KKB|       1A|      69|    49.0|\n",
      "|     626|               50|      34.0|      710|      11464|2023-10-03 22:13:...|        JBP|      KKB|       2A|      69|    49.0|\n",
      "|     441|               40|      24.0|      505|      11464|2023-10-03 22:13:...|        JBP|      KKB|       3A|      69|    49.0|\n",
      "|     125|               20|       0.0|      145|      11464|2023-10-03 22:13:...|        JBP|      KKB|       SL|      69|    49.0|\n",
      "|    1059|               60|      56.0|     1175|      11464|2023-10-03 22:13:...|        JBP|       NU|       1A|      85|    72.0|\n",
      "|     626|               50|      34.0|      710|      11464|2023-10-03 22:13:...|        JBP|       NU|       2A|      85|    72.0|\n",
      "|     441|               40|      24.0|      505|      11464|2023-10-03 22:13:...|        JBP|       NU|       3A|      85|    72.0|\n",
      "|     125|               20|       0.0|      145|      11464|2023-10-03 22:13:...|        JBP|       NU|       SL|      85|    72.0|\n",
      "|    1059|               60|      56.0|     1175|      11464|2023-10-03 22:13:...|        JBP|       KY|       1A|     100|    86.0|\n",
      "|     626|               50|      34.0|      710|      11464|2023-10-03 22:13:...|        JBP|       KY|       2A|     100|    86.0|\n",
      "|     441|               40|      24.0|      505|      11464|2023-10-03 22:13:...|        JBP|       KY|       3A|     100|    86.0|\n",
      "|     125|               20|       0.0|      145|      11464|2023-10-03 22:13:...|        JBP|       KY|       SL|     100|    86.0|\n",
      "|    1059|               60|      56.0|     1175|      11464|2023-10-03 22:13:...|        JBP|      GAR|       1A|     129|   110.0|\n",
      "|     626|               50|      34.0|      710|      11464|2023-10-03 22:13:...|        JBP|      GAR|       2A|     129|   110.0|\n",
      "|     441|               40|      24.0|      505|      11464|2023-10-03 22:13:...|        JBP|      GAR|       3A|     129|   110.0|\n",
      "|     125|               20|       0.0|      145|      11464|2023-10-03 22:13:...|        JBP|      GAR|       SL|     129|   110.0|\n",
      "+--------+-----------------+----------+---------+-----------+--------------------+-----------+---------+---------+--------+--------+\n",
      "only showing top 20 rows\n",
      "\n"
     ]
    }
   ],
   "source": [
    "df1.show()"
   ]
  },
  {
   "cell_type": "code",
   "execution_count": 9,
   "id": "966f02a4",
   "metadata": {},
   "outputs": [
    {
     "name": "stdout",
     "output_type": "stream",
     "text": [
      "root\n",
      " |-- baseFare: integer (nullable = true)\n",
      " |-- reservationCharge: integer (nullable = true)\n",
      " |-- serviceTax: double (nullable = true)\n",
      " |-- totalFare: integer (nullable = true)\n",
      " |-- trainNumber: integer (nullable = true)\n",
      " |-- timeStamp: timestamp (nullable = true)\n",
      " |-- fromStnCode: string (nullable = true)\n",
      " |-- toStnCode: string (nullable = true)\n",
      " |-- classCode: string (nullable = true)\n",
      " |-- distance: integer (nullable = true)\n",
      " |-- duration: double (nullable = true)\n",
      "\n"
     ]
    }
   ],
   "source": [
    "df1.printSchema()"
   ]
  },
  {
   "cell_type": "code",
   "execution_count": 10,
   "id": "e6919ec5",
   "metadata": {},
   "outputs": [],
   "source": [
    "Column = ['baseFare',\n",
    " 'reservationCharge',\n",
    " 'superfastCharge',\n",
    " 'fuelAmount',\n",
    " 'totalConcession',\n",
    " 'tatkalFare',\n",
    " 'serviceTax',\n",
    " 'otherCharge',\n",
    " 'cateringCharge',\n",
    " 'dynamicFare',\n",
    " 'totalFare',\n",
    " 'availability',\n",
    " 'trainNumber',\n",
    " 'timeStamp',\n",
    " 'fromStnCode',\n",
    " 'toStnCode',\n",
    " 'classCode',\n",
    " 'distance',\n",
    " 'duration']"
   ]
  },
  {
   "cell_type": "code",
   "execution_count": 11,
   "id": "8e544e27",
   "metadata": {},
   "outputs": [],
   "source": [
    "new_df = df1.select([col(col_name).alias(col_name.capitalize()) for col_name in df1.columns])"
   ]
  },
  {
   "cell_type": "code",
   "execution_count": 12,
   "id": "8cf9e1fb",
   "metadata": {},
   "outputs": [
    {
     "name": "stdout",
     "output_type": "stream",
     "text": [
      "+--------+-----------------+----------+---------+-----------+--------------------+-----------+---------+---------+--------+--------+\n",
      "|Basefare|Reservationcharge|Servicetax|Totalfare|Trainnumber|           Timestamp|Fromstncode|Tostncode|Classcode|Distance|Duration|\n",
      "+--------+-----------------+----------+---------+-----------+--------------------+-----------+---------+---------+--------+--------+\n",
      "|    1059|               60|      56.0|     1175|      11464|2023-10-03 22:13:...|        JBP|     SRID|       1A|      54|    33.0|\n",
      "|     626|               50|      34.0|      710|      11464|2023-10-03 22:13:...|        JBP|     SRID|       2A|      54|    33.0|\n",
      "|     441|               40|      24.0|      505|      11464|2023-10-03 22:13:...|        JBP|     SRID|       3A|      54|    33.0|\n",
      "|     125|               20|       0.0|      145|      11464|2023-10-03 22:13:...|        JBP|     SRID|       SL|      54|    33.0|\n",
      "+--------+-----------------+----------+---------+-----------+--------------------+-----------+---------+---------+--------+--------+\n",
      "only showing top 4 rows\n",
      "\n"
     ]
    }
   ],
   "source": [
    "new_df.show(4)"
   ]
  },
  {
   "cell_type": "code",
   "execution_count": 13,
   "id": "0c05ad2c",
   "metadata": {},
   "outputs": [
    {
     "data": {
      "text/plain": [
       "['Basefare',\n",
       " 'Reservationcharge',\n",
       " 'Servicetax',\n",
       " 'Totalfare',\n",
       " 'Trainnumber',\n",
       " 'Timestamp',\n",
       " 'Fromstncode',\n",
       " 'Tostncode',\n",
       " 'Classcode',\n",
       " 'Distance',\n",
       " 'Duration']"
      ]
     },
     "execution_count": 13,
     "metadata": {},
     "output_type": "execute_result"
    }
   ],
   "source": [
    "new_df.columns"
   ]
  },
  {
   "cell_type": "code",
   "execution_count": null,
   "id": "334412fd",
   "metadata": {},
   "outputs": [],
   "source": []
  },
  {
   "cell_type": "code",
   "execution_count": 14,
   "id": "dbc4a969",
   "metadata": {},
   "outputs": [],
   "source": [
    "df_percent = new_df.withColumn(\"Service_tax\", round(col(\"Servicetax\") / col(\"Totalfare\") * 100, 2))"
   ]
  },
  {
   "cell_type": "code",
   "execution_count": 15,
   "id": "b5fe34de",
   "metadata": {},
   "outputs": [
    {
     "name": "stdout",
     "output_type": "stream",
     "text": [
      "+-----------+\n",
      "|Service_tax|\n",
      "+-----------+\n",
      "|       4.77|\n",
      "|       4.79|\n",
      "|       4.75|\n",
      "|        0.0|\n",
      "|       4.77|\n",
      "|       4.79|\n",
      "|       4.75|\n",
      "|        0.0|\n",
      "|       4.77|\n",
      "|       4.79|\n",
      "|       4.75|\n",
      "|        0.0|\n",
      "|       4.77|\n",
      "|       4.79|\n",
      "|       4.75|\n",
      "|        0.0|\n",
      "|       4.77|\n",
      "|       4.79|\n",
      "|       4.75|\n",
      "|        0.0|\n",
      "+-----------+\n",
      "only showing top 20 rows\n",
      "\n"
     ]
    }
   ],
   "source": [
    "df_percent.select('Service_tax').show()"
   ]
  },
  {
   "cell_type": "code",
   "execution_count": 16,
   "id": "b148d5dd",
   "metadata": {},
   "outputs": [
    {
     "name": "stdout",
     "output_type": "stream",
     "text": [
      "+--------+-----------------+----------+---------+-----------+--------------------+-----------+---------+---------+--------+--------+-----------+\n",
      "|Basefare|Reservationcharge|Servicetax|Totalfare|Trainnumber|           Timestamp|Fromstncode|Tostncode|Classcode|Distance|Duration|Service_tax|\n",
      "+--------+-----------------+----------+---------+-----------+--------------------+-----------+---------+---------+--------+--------+-----------+\n",
      "|    1059|               60|      56.0|     1175|      11464|2023-10-03 22:13:...|        JBP|     SRID|       1A|      54|    33.0|       4.77|\n",
      "|     626|               50|      34.0|      710|      11464|2023-10-03 22:13:...|        JBP|     SRID|       2A|      54|    33.0|       4.79|\n",
      "|     441|               40|      24.0|      505|      11464|2023-10-03 22:13:...|        JBP|     SRID|       3A|      54|    33.0|       4.75|\n",
      "|     125|               20|       0.0|      145|      11464|2023-10-03 22:13:...|        JBP|     SRID|       SL|      54|    33.0|        0.0|\n",
      "+--------+-----------------+----------+---------+-----------+--------------------+-----------+---------+---------+--------+--------+-----------+\n",
      "only showing top 4 rows\n",
      "\n"
     ]
    }
   ],
   "source": [
    "df_percent.show(4)"
   ]
  },
  {
   "cell_type": "code",
   "execution_count": 17,
   "id": "8a53cae5",
   "metadata": {},
   "outputs": [
    {
     "name": "stdout",
     "output_type": "stream",
     "text": [
      "+--------------------+\n",
      "|           Timestamp|\n",
      "+--------------------+\n",
      "|2023-10-03 22:13:...|\n",
      "|2023-10-03 22:13:...|\n",
      "|2023-10-03 22:13:...|\n",
      "|2023-10-03 22:13:...|\n",
      "|2023-10-03 22:13:...|\n",
      "|2023-10-03 22:13:...|\n",
      "|2023-10-03 22:13:...|\n",
      "|2023-10-03 22:13:...|\n",
      "|2023-10-03 22:13:...|\n",
      "|2023-10-03 22:13:...|\n",
      "|2023-10-03 22:13:...|\n",
      "|2023-10-03 22:13:...|\n",
      "|2023-10-03 22:13:...|\n",
      "|2023-10-03 22:13:...|\n",
      "|2023-10-03 22:13:...|\n",
      "|2023-10-03 22:13:...|\n",
      "|2023-10-03 22:13:...|\n",
      "|2023-10-03 22:13:...|\n",
      "|2023-10-03 22:13:...|\n",
      "|2023-10-03 22:13:...|\n",
      "+--------------------+\n",
      "only showing top 20 rows\n",
      "\n"
     ]
    }
   ],
   "source": [
    "df_percent.select('Timestamp').show()"
   ]
  },
  {
   "cell_type": "code",
   "execution_count": 18,
   "id": "e35939b6",
   "metadata": {},
   "outputs": [],
   "source": [
    "df_split = df_percent.withColumn(\"date\", split(col(\"Timestamp\"), \" \")[0]) \\\n",
    "                .withColumn(\"time\", split(col(\"Timestamp\"), \" \")[1])"
   ]
  },
  {
   "cell_type": "code",
   "execution_count": 19,
   "id": "9a058621",
   "metadata": {},
   "outputs": [
    {
     "name": "stdout",
     "output_type": "stream",
     "text": [
      "+--------+-----------------+----------+---------+-----------+--------------------+-----------+---------+---------+--------+--------+-----------+----------+------------+\n",
      "|Basefare|Reservationcharge|Servicetax|Totalfare|Trainnumber|           Timestamp|Fromstncode|Tostncode|Classcode|Distance|Duration|Service_tax|      date|        time|\n",
      "+--------+-----------------+----------+---------+-----------+--------------------+-----------+---------+---------+--------+--------+-----------+----------+------------+\n",
      "|    1059|               60|      56.0|     1175|      11464|2023-10-03 22:13:...|        JBP|     SRID|       1A|      54|    33.0|       4.77|2023-10-03|22:13:07.781|\n",
      "|     626|               50|      34.0|      710|      11464|2023-10-03 22:13:...|        JBP|     SRID|       2A|      54|    33.0|       4.79|2023-10-03|22:13:07.781|\n",
      "|     441|               40|      24.0|      505|      11464|2023-10-03 22:13:...|        JBP|     SRID|       3A|      54|    33.0|       4.75|2023-10-03|22:13:07.781|\n",
      "|     125|               20|       0.0|      145|      11464|2023-10-03 22:13:...|        JBP|     SRID|       SL|      54|    33.0|        0.0|2023-10-03|22:13:07.781|\n",
      "+--------+-----------------+----------+---------+-----------+--------------------+-----------+---------+---------+--------+--------+-----------+----------+------------+\n",
      "only showing top 4 rows\n",
      "\n"
     ]
    }
   ],
   "source": [
    "df_split.show(4)"
   ]
  },
  {
   "cell_type": "code",
   "execution_count": 20,
   "id": "ada839c5",
   "metadata": {},
   "outputs": [
    {
     "name": "stdout",
     "output_type": "stream",
     "text": [
      "+----------+------------+\n",
      "|      Date|        Time|\n",
      "+----------+------------+\n",
      "|2023-10-03|22:13:07.781|\n",
      "|2023-10-03|22:13:07.781|\n",
      "|2023-10-03|22:13:07.781|\n",
      "|2023-10-03|22:13:07.781|\n",
      "|2023-10-03|22:13:07.781|\n",
      "|2023-10-03|22:13:07.781|\n",
      "|2023-10-03|22:13:07.781|\n",
      "|2023-10-03|22:13:07.781|\n",
      "|2023-10-03|22:13:07.781|\n",
      "|2023-10-03|22:13:07.781|\n",
      "|2023-10-03|22:13:07.781|\n",
      "|2023-10-03|22:13:07.781|\n",
      "|2023-10-03|22:13:07.781|\n",
      "|2023-10-03|22:13:07.781|\n",
      "|2023-10-03|22:13:07.781|\n",
      "|2023-10-03|22:13:07.781|\n",
      "|2023-10-03|22:13:07.781|\n",
      "|2023-10-03|22:13:07.781|\n",
      "|2023-10-03|22:13:07.781|\n",
      "|2023-10-03|22:13:07.781|\n",
      "+----------+------------+\n",
      "only showing top 20 rows\n",
      "\n"
     ]
    }
   ],
   "source": [
    "df_split.select(\"Date\",\"Time\").show()"
   ]
  },
  {
   "cell_type": "code",
   "execution_count": 21,
   "id": "c3dd8fa2",
   "metadata": {},
   "outputs": [],
   "source": [
    "df_timestamp=df_split.drop(\"Timestamp\")"
   ]
  },
  {
   "cell_type": "code",
   "execution_count": 22,
   "id": "2901e0ed",
   "metadata": {},
   "outputs": [
    {
     "name": "stdout",
     "output_type": "stream",
     "text": [
      "+--------+-----------------+----------+---------+-----------+-----------+---------+---------+--------+--------+-----------+----------+------------+\n",
      "|Basefare|Reservationcharge|Servicetax|Totalfare|Trainnumber|Fromstncode|Tostncode|Classcode|Distance|Duration|Service_tax|      date|        time|\n",
      "+--------+-----------------+----------+---------+-----------+-----------+---------+---------+--------+--------+-----------+----------+------------+\n",
      "|    1059|               60|      56.0|     1175|      11464|        JBP|     SRID|       1A|      54|    33.0|       4.77|2023-10-03|22:13:07.781|\n",
      "|     626|               50|      34.0|      710|      11464|        JBP|     SRID|       2A|      54|    33.0|       4.79|2023-10-03|22:13:07.781|\n",
      "|     441|               40|      24.0|      505|      11464|        JBP|     SRID|       3A|      54|    33.0|       4.75|2023-10-03|22:13:07.781|\n",
      "|     125|               20|       0.0|      145|      11464|        JBP|     SRID|       SL|      54|    33.0|        0.0|2023-10-03|22:13:07.781|\n",
      "|    1059|               60|      56.0|     1175|      11464|        JBP|      KKB|       1A|      69|    49.0|       4.77|2023-10-03|22:13:07.781|\n",
      "|     626|               50|      34.0|      710|      11464|        JBP|      KKB|       2A|      69|    49.0|       4.79|2023-10-03|22:13:07.781|\n",
      "|     441|               40|      24.0|      505|      11464|        JBP|      KKB|       3A|      69|    49.0|       4.75|2023-10-03|22:13:07.781|\n",
      "|     125|               20|       0.0|      145|      11464|        JBP|      KKB|       SL|      69|    49.0|        0.0|2023-10-03|22:13:07.781|\n",
      "|    1059|               60|      56.0|     1175|      11464|        JBP|       NU|       1A|      85|    72.0|       4.77|2023-10-03|22:13:07.781|\n",
      "|     626|               50|      34.0|      710|      11464|        JBP|       NU|       2A|      85|    72.0|       4.79|2023-10-03|22:13:07.781|\n",
      "|     441|               40|      24.0|      505|      11464|        JBP|       NU|       3A|      85|    72.0|       4.75|2023-10-03|22:13:07.781|\n",
      "|     125|               20|       0.0|      145|      11464|        JBP|       NU|       SL|      85|    72.0|        0.0|2023-10-03|22:13:07.781|\n",
      "|    1059|               60|      56.0|     1175|      11464|        JBP|       KY|       1A|     100|    86.0|       4.77|2023-10-03|22:13:07.781|\n",
      "|     626|               50|      34.0|      710|      11464|        JBP|       KY|       2A|     100|    86.0|       4.79|2023-10-03|22:13:07.781|\n",
      "|     441|               40|      24.0|      505|      11464|        JBP|       KY|       3A|     100|    86.0|       4.75|2023-10-03|22:13:07.781|\n",
      "|     125|               20|       0.0|      145|      11464|        JBP|       KY|       SL|     100|    86.0|        0.0|2023-10-03|22:13:07.781|\n",
      "|    1059|               60|      56.0|     1175|      11464|        JBP|      GAR|       1A|     129|   110.0|       4.77|2023-10-03|22:13:07.781|\n",
      "|     626|               50|      34.0|      710|      11464|        JBP|      GAR|       2A|     129|   110.0|       4.79|2023-10-03|22:13:07.781|\n",
      "|     441|               40|      24.0|      505|      11464|        JBP|      GAR|       3A|     129|   110.0|       4.75|2023-10-03|22:13:07.781|\n",
      "|     125|               20|       0.0|      145|      11464|        JBP|      GAR|       SL|     129|   110.0|        0.0|2023-10-03|22:13:07.781|\n",
      "+--------+-----------------+----------+---------+-----------+-----------+---------+---------+--------+--------+-----------+----------+------------+\n",
      "only showing top 20 rows\n",
      "\n"
     ]
    }
   ],
   "source": [
    "df_timestamp.show()"
   ]
  },
  {
   "cell_type": "code",
   "execution_count": 23,
   "id": "6c089ef7",
   "metadata": {},
   "outputs": [],
   "source": [
    "import pandas as pd\n",
    "\n",
    "# Convert PySpark DataFrame to Pandas DataFrame\n",
    "pandas_df = df_timestamp.toPandas()\n",
    "\n"
   ]
  },
  {
   "cell_type": "code",
   "execution_count": 24,
   "id": "beaebb43",
   "metadata": {},
   "outputs": [],
   "source": [
    "# Specify the output path\n",
    "output_path = \"/home/talentum/shared/Project/Train Fare.csv\"\n",
    "\n",
    "# Write Pandas DataFrame to CSV file with header\n",
    "pandas_df.to_csv(output_path, header=True, index=False)"
   ]
  },
  {
   "cell_type": "code",
   "execution_count": 25,
   "id": "55650f05",
   "metadata": {},
   "outputs": [
    {
     "name": "stdout",
     "output_type": "stream",
     "text": [
      "root\n",
      " |-- Basefare: integer (nullable = true)\n",
      " |-- Reservationcharge: integer (nullable = true)\n",
      " |-- Servicetax: double (nullable = true)\n",
      " |-- Totalfare: integer (nullable = true)\n",
      " |-- Trainnumber: integer (nullable = true)\n",
      " |-- Fromstncode: string (nullable = true)\n",
      " |-- Tostncode: string (nullable = true)\n",
      " |-- Classcode: string (nullable = true)\n",
      " |-- Distance: integer (nullable = true)\n",
      " |-- Duration: double (nullable = true)\n",
      " |-- Service_tax: double (nullable = true)\n",
      " |-- date: string (nullable = true)\n",
      " |-- time: string (nullable = true)\n",
      "\n"
     ]
    }
   ],
   "source": [
    "df_timestamp.printSchema()"
   ]
  },
  {
   "cell_type": "code",
   "execution_count": null,
   "id": "c0aeafa8",
   "metadata": {},
   "outputs": [],
   "source": [
    "#url = \"jdbc:mysql://127.0.0.1:3306/test?useSSL=false&allowPublicKeyRetrieval=true\"\n",
    "# driver = \"com.mysql.jdbc.Driver\"\n",
    "# user = \"bigdata\"\n",
    "# password = \"Bigdata@123\""
   ]
  },
  {
   "cell_type": "code",
   "execution_count": 28,
   "id": "21769574",
   "metadata": {},
   "outputs": [],
   "source": [
    "mysql_url = \"jdbc:mysql://127.0.0.1:3306/project?useSSL=false&allowPublicKeyRetrieval=true\"\n",
    "conn_prop={\n",
    "    \n",
    "    \"user\":\"bigdata\",\n",
    "    \"password\":\"Bigdata@123\",\n",
    "    \"driver\":\"com.mysql.jdbc.Driver\"\n",
    "}\n",
    "\n",
    "table_name=\"train_fare\"\n",
    "\n",
    "df_timestamp.write.jdbc(url=mysql_url,table=table_name,mode=\"overwrite\",properties=conn_prop)"
   ]
  },
  {
   "cell_type": "code",
   "execution_count": null,
   "id": "26106d73",
   "metadata": {},
   "outputs": [],
   "source": []
  }
 ],
 "metadata": {
  "kernelspec": {
   "display_name": "Python 3",
   "language": "python",
   "name": "python3"
  },
  "language_info": {
   "codemirror_mode": {
    "name": "ipython",
    "version": 3
   },
   "file_extension": ".py",
   "mimetype": "text/x-python",
   "name": "python",
   "nbconvert_exporter": "python",
   "pygments_lexer": "ipython3",
   "version": "3.6.9"
  }
 },
 "nbformat": 4,
 "nbformat_minor": 5
}
